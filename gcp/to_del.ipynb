{
 "cells": [
  {
   "cell_type": "markdown",
   "metadata": {},
   "source": [
    "https://cloud.google.com/storage/docs/reference/libraries#client-libraries-usage-python"
   ]
  },
  {
   "cell_type": "code",
   "execution_count": null,
   "metadata": {},
   "outputs": [],
   "source": [
    "# Imports the Google Cloud client library\n",
    "from google.cloud import storage\n",
    "import os\n",
    "import pprint\n",
    "import codecs\n",
    "import json\n",
    "import datetime"
   ]
  },
  {
   "cell_type": "code",
   "execution_count": null,
   "metadata": {},
   "outputs": [],
   "source": [
    "root_path = \"/Users/xszpo/GoogleDrive/01_Projects/201907_xFlats/\"\n",
    "gcp_secrets = \"secrets/xflats-d81a8c5eaf54.json\"\n",
    "secters_path = os.path.join(root_path, gcp_secrets)"
   ]
  },
  {
   "cell_type": "code",
   "execution_count": null,
   "metadata": {},
   "outputs": [],
   "source": [
    "storage_client = storage.Client.from_service_account_json(secters_path)"
   ]
  },
  {
   "cell_type": "code",
   "execution_count": null,
   "metadata": {},
   "outputs": [],
   "source": [
    "# list buckets\n",
    "list(storage_client.list_buckets())"
   ]
  },
  {
   "cell_type": "code",
   "execution_count": null,
   "metadata": {},
   "outputs": [],
   "source": [
    "# The name for the new bucket\n",
    "bucket_name = \"xflats-666\""
   ]
  },
  {
   "cell_type": "code",
   "execution_count": null,
   "metadata": {},
   "outputs": [],
   "source": [
    "bucket = storage_client.get_bucket(bucket_name)"
   ]
  },
  {
   "cell_type": "code",
   "execution_count": null,
   "metadata": {},
   "outputs": [],
   "source": [
    "a = bucket.blob('test.txt').upload_from_string('{\"a\":\"test\"}')"
   ]
  },
  {
   "cell_type": "code",
   "execution_count": null,
   "metadata": {},
   "outputs": [],
   "source": [
    "blobs = storage_client.list_blobs(bucket_name)\n",
    "for blob in blobs:\n",
    "    print(blob.name)"
   ]
  },
  {
   "cell_type": "code",
   "execution_count": null,
   "metadata": {},
   "outputs": [],
   "source": [
    "import json\n",
    "import codecs\n",
    "\n",
    "class Mongo2GCPstorage:\n",
    "    \n",
    "    def __init__(self, \n",
    "                 name, \n",
    "                 json_file_path, \n",
    "                 gcp_secret_path,\n",
    "                 bucket_name = \"xflats-666\",\n",
    "                 id_field_in_json='_id',\n",
    "                 conv_download_date_utc = True, \n",
    "                 conv_download_date = True):\n",
    "        self.name = name\n",
    "        self.json_file_path = json_file_path\n",
    "        self.gcp_secret_path = gcp_secret_path\n",
    "        self.bucket_name = bucket_name\n",
    "        self.id_field_in_json = id_field_in_json\n",
    "        self.conv_download_date_utc = conv_download_date_utc\n",
    "        self.conv_download_date = conv_download_date\n",
    "        self.data = None\n",
    "        self.bucket = None\n",
    "        self.data = None\n",
    "\n",
    "        self.storage_client = storage.Client.from_service_account_json(gcp_secret_path)\n",
    "\n",
    "        if self.bucket_name in [i.name for i in self._list_gcp_buckets()]:\n",
    "            print(\"Bucket {} has been found, ok.\".format(self.bucket_name))\n",
    "            self.bucketfound = True\n",
    "        else:\n",
    "            print(\"Bucket {} has not benn found...\".format(self.bucket_name))\n",
    "            self.bucketfound = False\n",
    "        \n",
    "        \n",
    "    def _list_gcp_buckets(self):\n",
    "        return list(self.storage_client.list_buckets())\n",
    "        \n",
    "    def _read_json_line(self):\n",
    "        with codecs.open(self.json_file_path,'r') as file:\n",
    "            data = file.readlines()\n",
    "        return data\n",
    "    \n",
    "    def _convert_2_json(self, json_flat):\n",
    "        json_data = json.loads(json_flat)\n",
    "        if self.conv_download_date_utc:\n",
    "            try:\n",
    "                json_data['download_date_utc'] = float(json_data['download_date_utc']['$numberDecimal']) \n",
    "            except:\n",
    "                json_data['download_date_utc'] = float(json_data['download_date_utc'])\n",
    "        if self.conv_download_date :\n",
    "            json_data['download_date'] = json_data['download_date']['$date']\n",
    "        return json_data\n",
    "\n",
    "    def _get_bucket(self):\n",
    "        if self.bucketfound:\n",
    "            self.bucket = self.storage_client.get_bucket(self.bucket_name)\n",
    "        else:\n",
    "            print('Bucker {} doesnt exist, couldnt process'.format(self.bucket_name))\n",
    "\n",
    "    def file_to_json_line(self):\n",
    "        data = self._read_json_line()\n",
    "        data = [self._convert_2_json(i) for i in data]\n",
    "        self.data = data\n",
    "        \n",
    "    def _save_json_to_gcp(self,one_json):\n",
    "        self._get_bucket()\n",
    "        self.bucket.blob(one_json[self.id_field_in_json]+\".json\").upload_from_string(json.dumps(one_json))\n",
    "    \n",
    "        \n",
    "    def file_to_gcp(self):\n",
    "        self.file_to_json_line()\n",
    "        for one_json in self.data:\n",
    "            self._save_json_to_gcp(one_json)\n",
    "            break\n",
    "        "
   ]
  },
  {
   "cell_type": "code",
   "execution_count": null,
   "metadata": {},
   "outputs": [],
   "source": [
    "olx = Mongo2GCPstorage(\n",
    "    name = \"olx\",\n",
    "    id_prefix = \"olx\"\n",
    "    json_file_path = '../mongodb/olx.json',\n",
    "    gcp_secret_path = secters_path,\n",
    "    bucket_name = \"xflats-666\"\n",
    ")"
   ]
  },
  {
   "cell_type": "code",
   "execution_count": null,
   "metadata": {},
   "outputs": [],
   "source": [
    "olx.file_to_json_line()"
   ]
  },
  {
   "cell_type": "code",
   "execution_count": null,
   "metadata": {},
   "outputs": [],
   "source": [
    "olx.file_to_gcp()"
   ]
  },
  {
   "cell_type": "code",
   "execution_count": null,
   "metadata": {},
   "outputs": [],
   "source": [
    "x=olx.bucket.get_blob('olx_316139968_430000.json')"
   ]
  },
  {
   "cell_type": "code",
   "execution_count": null,
   "metadata": {},
   "outputs": [],
   "source": [
    "[i.name for i in olx.bucket.list_blobs()]"
   ]
  },
  {
   "cell_type": "code",
   "execution_count": null,
   "metadata": {},
   "outputs": [],
   "source": [
    "olx.bucket.blob('olx_316139968_430000.json').exists()"
   ]
  },
  {
   "cell_type": "code",
   "execution_count": null,
   "metadata": {},
   "outputs": [],
   "source": [
    "json.loads(x.download_as_string())"
   ]
  },
  {
   "cell_type": "code",
   "execution_count": null,
   "metadata": {},
   "outputs": [],
   "source": [
    "gs://xflats-666/olx_316139968_430000.json"
   ]
  },
  {
   "cell_type": "code",
   "execution_count": null,
   "metadata": {},
   "outputs": [],
   "source": [
    "olx.file_to_json_line()\n",
    "\n",
    "x = olx.data\n",
    "\n",
    "olx.file_to_gcp()\n",
    "#datetime.datetime.utcfromtimestamp(1574498524.432)"
   ]
  },
  {
   "cell_type": "code",
   "execution_count": null,
   "metadata": {},
   "outputs": [],
   "source": [
    "olx.get_bucket()"
   ]
  },
  {
   "cell_type": "code",
   "execution_count": null,
   "metadata": {},
   "outputs": [],
   "source": [
    "json.dumps(x[0])"
   ]
  }
 ],
 "metadata": {
  "kernelspec": {
   "display_name": "Python 3",
   "language": "python",
   "name": "python3"
  },
  "language_info": {
   "codemirror_mode": {
    "name": "ipython",
    "version": 3
   },
   "file_extension": ".py",
   "mimetype": "text/x-python",
   "name": "python",
   "nbconvert_exporter": "python",
   "pygments_lexer": "ipython3",
   "version": "3.7.4"
  }
 },
 "nbformat": 4,
 "nbformat_minor": 4
}
