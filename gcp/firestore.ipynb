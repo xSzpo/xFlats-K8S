{
 "cells": [
  {
   "cell_type": "code",
   "execution_count": 35,
   "metadata": {},
   "outputs": [],
   "source": [
    "#pip install python-dateutil"
   ]
  },
  {
   "cell_type": "code",
   "execution_count": 1,
   "metadata": {},
   "outputs": [],
   "source": [
    "import json\n",
    "import codecs\n",
    "from dateutil.parser import parse"
   ]
  },
  {
   "cell_type": "code",
   "execution_count": 2,
   "metadata": {},
   "outputs": [
    {
     "name": "stdout",
     "output_type": "stream",
     "text": [
      "K8S.ipynb                  firestore.ipynb\n",
      "create_jsons.ipynb         google_cloud_storage.ipynb\n",
      "data_20200405.jsonline     to_del.ipynb\n"
     ]
    }
   ],
   "source": [
    "!ls"
   ]
  },
  {
   "cell_type": "code",
   "execution_count": 28,
   "metadata": {},
   "outputs": [],
   "source": [
    "with codecs.open(\"data_20200405.jsonline\",\"r\") as file:\n",
    "    jsonline_flats = file.readlines()"
   ]
  },
  {
   "cell_type": "code",
   "execution_count": 29,
   "metadata": {},
   "outputs": [],
   "source": [
    "def json2firestore(rec):\n",
    "    tmp = json.loads(rec)\n",
    "    _ = tmp.pop('body')\n",
    "    tmp['download_date'] = parse(tmp['download_date']) if tmp['download_date'] else None\n",
    "    tmp['date_created'] = parse(tmp['date_created']) if tmp['date_created'] else None\n",
    "    tmp['date_modified'] = parse(tmp['date_modified']) if tmp['date_modified'] else None\n",
    "    return tmp\n",
    "    \n",
    "jsonline_flats = [json2firestore(i) for i in jsonline_flats]"
   ]
  },
  {
   "cell_type": "code",
   "execution_count": 3,
   "metadata": {},
   "outputs": [],
   "source": [
    "from google.cloud import firestore\n",
    "\n",
    "import tarfile\n",
    "import json\n",
    "import codecs\n",
    "import os\n",
    "from tqdm.notebook import tqdm_notebook\n",
    "from dateutil import parser"
   ]
  },
  {
   "cell_type": "code",
   "execution_count": 4,
   "metadata": {},
   "outputs": [
    {
     "name": "stdout",
     "output_type": "stream",
     "text": [
      "/Users/xszpo/GoogleDrive/01_Projects/202003_xFlats_K8S/gcp\n"
     ]
    }
   ],
   "source": [
    "!pwd"
   ]
  },
  {
   "cell_type": "code",
   "execution_count": 5,
   "metadata": {},
   "outputs": [],
   "source": [
    "root_path = \"/Users/xszpo/GoogleDrive/01_Projects/202003_xFlats_K8S/secrets/\"\n",
    "gcp_secrets = \"firestore.json\"\n",
    "secters_path = os.path.join(root_path, gcp_secrets)"
   ]
  },
  {
   "cell_type": "code",
   "execution_count": 6,
   "metadata": {},
   "outputs": [],
   "source": [
    "db = firestore.Client.from_service_account_json(secters_path)"
   ]
  },
  {
   "cell_type": "code",
   "execution_count": 59,
   "metadata": {},
   "outputs": [],
   "source": [
    "def firestore_write(json, collection_name='flats'):\n",
    "    return db.collection(collection_name).document(json['_id']).set(json)\n"
   ]
  },
  {
   "cell_type": "code",
   "execution_count": 62,
   "metadata": {},
   "outputs": [
    {
     "data": {
      "text/plain": [
       "update_time {\n",
       "  seconds: 1586117741\n",
       "  nanos: 45762000\n",
       "}"
      ]
     },
     "execution_count": 62,
     "metadata": {},
     "output_type": "execute_result"
    }
   ],
   "source": [
    "firestore_write({\"_id\":\"test\",\"test\":\"test\"})"
   ]
  },
  {
   "cell_type": "code",
   "execution_count": 37,
   "metadata": {},
   "outputs": [],
   "source": [
    "for i in jsonline_flats:\n",
    "    firestore_write(i)"
   ]
  },
  {
   "cell_type": "code",
   "execution_count": 7,
   "metadata": {},
   "outputs": [],
   "source": [
    "def check_if_exists(_id, collection_name='flats'):\n",
    "    return db.collection(collection_name).document(_id).get([]).exists"
   ]
  },
  {
   "cell_type": "code",
   "execution_count": null,
   "metadata": {},
   "outputs": [],
   "source": []
  },
  {
   "cell_type": "code",
   "execution_count": 6,
   "metadata": {},
   "outputs": [],
   "source": [
    "users_ref = db.collection(u'users')\n",
    "docs = users_ref.stream()\n",
    "\n",
    "for doc in docs:\n",
    "    print(u'{} => {}'.format(doc.id, doc.to_dict()))\n"
   ]
  },
  {
   "cell_type": "code",
   "execution_count": 73,
   "metadata": {},
   "outputs": [],
   "source": [
    "with codecs.open('data/olx/olx_316139968_430000.json','r') as file:\n",
    "    json_ = json.load(file)\n",
    "\n",
    "_id = json_.pop('_id')\n",
    "flat_size = json_.pop('flat_size', None)\n",
    "rooms = json_.pop('rooms', None)\n",
    "floor = json_.pop('floor', None)\n",
    "building_type = json_.pop('building_type', None)\n",
    "year_of_building = json_.pop('year_of_building', None)\n",
    "property_form = json_.pop('property_form',None)\n",
    "price = json_.pop('price', None)\n",
    "prediction = json_.pop('prediction', None)\n",
    "producer_name = json_.pop('producer_name', None)\n",
    "price_m2 = json_.pop('price_m2', None)\n",
    "download_date = parser.parse(json_.pop('download_date'))\n",
    "GC_latitude = json_.pop('GC_latitude', None)\n",
    "GC_longitude = json_.pop('GC_longitude', None)\n",
    "GC_addr_neighbourhood = json_.pop('GC_addr_neighbourhood', None)\n",
    "GC_addr_suburb = json_.pop('GC_addr_suburb', None)\n",
    "GC_addr_road = json_.pop('GC_addr_road', None)\n",
    "GC_addr_city = json_.pop('GC_addr_city', None)\n",
    "GC_addr_postcode = json_.pop('GC_addr_postcode', None)\n",
    "download_date_utc = json_.pop('download_date_utc', None)\n",
    "\n",
    "json_1 = {\n",
    "    '_id': _id,\n",
    "    'flat_size': flat_size,\n",
    "    'rooms': rooms,\n",
    "    'floor': floor,\n",
    "    'building_type': building_type,\n",
    "    'year_of_building': year_of_building,\n",
    "    'property_form': property_form,\n",
    "    'price': price,\n",
    "    'prediction': prediction,\n",
    "    'producer_name': producer_name,\n",
    "    'price_m2': price_m2,\n",
    "    'download_date': download_date,\n",
    "    'GC_latitude': GC_latitude,\n",
    "    'GC_longitude': GC_longitude,\n",
    "    'GC_addr_neighbourhood':GC_addr_neighbourhood, \n",
    "    'GC_addr_suburb': GC_addr_suburb,\n",
    "    'GC_addr_road': GC_addr_road,\n",
    "    'GC_addr_city': GC_addr_city,\n",
    "    'GC_addr_postcode': GC_addr_postcode,\n",
    "    'download_date_utc': download_date_utc\n",
    "}\n",
    "\n",
    "json_2 = json_\n"
   ]
  },
  {
   "cell_type": "code",
   "execution_count": 74,
   "metadata": {},
   "outputs": [
    {
     "data": {
      "text/plain": [
       "update_time {\n",
       "  seconds: 1584917212\n",
       "  nanos: 912316000\n",
       "}"
      ]
     },
     "execution_count": 74,
     "metadata": {},
     "output_type": "execute_result"
    }
   ],
   "source": [
    "producer = json_1['producer_name']\n",
    "name = json_1['_id']\n",
    "\n",
    "doc_ref1 = db.collection(producer).document(name)\n",
    "doc_ref1.set(json_1)\n",
    "\n",
    "doc_ref2 = doc_ref1.collection('more').document('data')\n",
    "doc_ref2.set(json_2)"
   ]
  },
  {
   "cell_type": "code",
   "execution_count": 18,
   "metadata": {},
   "outputs": [],
   "source": [
    "#! ls data/olx"
   ]
  },
  {
   "cell_type": "code",
   "execution_count": 72,
   "metadata": {},
   "outputs": [
    {
     "data": {
      "text/plain": [
       "{'_id': 'olx_316139968_430000',\n",
       " 'GC_addr_road': 'Zakręcona',\n",
       " 'building_type': 'Blok',\n",
       " 'GC_addr_neighbourhood': 'Białołęka Dworska',\n",
       " 'GC_addr_postcode': '03-030',\n",
       " 'GC_addr_city': 'Warszawa',\n",
       " 'GC_latitude': 52.33008,\n",
       " 'producer_name': 'olx',\n",
       " 'property_form': None,\n",
       " 'download_date': DatetimeWithNanoseconds(2019, 11, 23, 5, 3, 20, 989000, tzinfo=<UTC>),\n",
       " 'flat_size': 53,\n",
       " 'price_m2': 8113.21,\n",
       " 'price': 430000,\n",
       " 'rooms': 2,\n",
       " 'year_of_building': None,\n",
       " 'GC_addr_suburb': 'Białołęka',\n",
       " 'download_date_utc': 1574481800.989,\n",
       " 'GC_longitude': 20.99661,\n",
       " 'prediction': None,\n",
       " 'floor': 7,\n",
       " 'location': 'Warszawa, Mazowieckie, Białołęka',\n",
       " 'url': 'https://www.olx.pl/oferta/sprzedam-bezposrednio-mieszkanie-dwupokojowe-na-bialolece-CID3-IDlourE.html',\n",
       " 'main_url': 'https://www.olx.pl/nieruchomosci/mieszkania/sprzedaz/warszawa',\n",
       " 'name': 'Sprzedam bezpośrednio mieszkanie dwupokojowe na Białołęce.',\n",
       " 'GC_addr_country': 'Polska',\n",
       " 'GC_boundingbox': '52.3300261,52.3302106,20.996558,20.9968113',\n",
       " 'GC_addr_country_code': 'pl',\n",
       " 'umeblowane': 'Nie',\n",
       " 'description': 'Mieszkanie do sprzedaży bez agencji! Agenci nieruchomości zdecydowanie prosimy o nie dzwonienie! Dziękuje.\\n\\r\\nMieszkanie znajduje się w sąsiedztwie pętli autobusowej Nowodwory, na ul. Światowida na Białołęce i ma bardzo ustawny rozklad. Doskonałe połączenie komunikacyjne (autobusy: 518, 516, 509, 503, 126, szybki tramwaj ). Bliski dojazd do stacji Metro Młociny tramwajem nr2 oraz do Arkadii tramwajem nr 17.\\n\\r\\nW niedalekim sąsiedztwie znajduje się Galeria Północna do której jest bezpośredni dojazd komunikacją miejską oraz Auchan do ktorego rowniez dojedziesz bezposrednio komunikacją miejską. Znajduje sie tez Auchan, gdzie dojdziesz spacerkiem.\\n\\r\\nW około mnóstwo sklepów, marketów, lasek, ścieżki spacerowe i rowerowe, miejsce do uprawiania\\n\\r\\njoggingu, banki, apteki, basen, siłownia, fryzjer, kosmetyczka itd.\\n\\r\\nBudynek jest z 2006 roku i wyróżnia się na tle innych świeżym, pastelowym kolorkiem. Na klatce znajdują się zaledwie trzy  lokale.\\n\\r\\nDla kogo idealne? Dla osób, które pragną mieć własne meble, także idealne dla rodzin z dziećmi. Niedaleko znajdują się szkoły i przedszkola. Jeden przystanek i jestes na placu zabaw dla dzieci. \\n\\r\\nStan lokalu  do odmalowania. Bardzo ładnie zrobiona łazienka  (równo położona glazura, terakota, pięknie\\n\\r\\noszlifowane półki). Mieszkanie\\n\\r\\n jest rozkładowe, bardzo przestronne,  kierunek okien: wschód i  zachód, jest bardzo ustawne, duże okna, słoneczne, ładny widok z okien.\\n\\r\\nKuchnia widna, w kwadracie, bardzo ustawna do własnej aranżacji. W mieszkaniu nie ma mebli. Mieszkanie jest do odmalowania, do zrobienia panele. W przedpokoju miejsce na zdjęcie butów i szafę.\\n\\r\\nJest też duży samodzielny balkon około 4m2 ( tj bez przegródek z sasiadem) i wlasne pomieszczenie gospodarcze około 6 m2.\\n\\r\\nMożliwość zrobienia trzech pokoi.  Na parterze znajduje się wózkownia i rowerownia, podjazd dla wózków. W niedalekim sąsiedztwie place zabaw dla dzieci. Mieszkanie posiada księge wieczystą.\\n\\r\\nParkowanie w okolicy bloku pod tak zwaną chmurką. Cena do sensownej negocjacji. \\n\\r\\n Nie odpowiadam na maile. Umow się na oglądanie- zaproponuj termin smsem na podany nr komórki.',\n",
       " 'floor_basement': 0,\n",
       " 'tracking_id': 316139968,\n",
       " 'GC_addr_house_number': '15',\n",
       " 'GC_addr_state': 'województwo mazowieckie',\n",
       " 'floor_attic': 0,\n",
       " 'market': 'Wtórny'}"
      ]
     },
     "execution_count": 72,
     "metadata": {},
     "output_type": "execute_result"
    }
   ],
   "source": [
    "json__ = doc_ref1.get().to_dict()\n",
    "json__.update(doc_ref2.get().to_dict())\n",
    "\n",
    "json__"
   ]
  }
 ],
 "metadata": {
  "kernelspec": {
   "display_name": "Python 3",
   "language": "python",
   "name": "python3"
  },
  "language_info": {
   "codemirror_mode": {
    "name": "ipython",
    "version": 3
   },
   "file_extension": ".py",
   "mimetype": "text/x-python",
   "name": "python",
   "nbconvert_exporter": "python",
   "pygments_lexer": "ipython3",
   "version": "3.7.4"
  }
 },
 "nbformat": 4,
 "nbformat_minor": 4
}
