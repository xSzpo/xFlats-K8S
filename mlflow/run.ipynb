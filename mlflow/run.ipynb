{
 "cells": [
  {
   "cell_type": "code",
   "execution_count": 6,
   "metadata": {},
   "outputs": [
    {
     "name": "stdout",
     "output_type": "stream",
     "text": [
      "The autoreload extension is already loaded. To reload it, use:\n",
      "  %reload_ext autoreload\n"
     ]
    }
   ],
   "source": [
    "%load_ext autoreload\n",
    "%autoreload 2\n",
    "\n",
    "from datetime import date\n",
    "import logging\n",
    "import sys\n",
    "import Xszpo\n",
    "\n",
    "logging.basicConfig(stream=sys.stdout, level=logging.INFO,\n",
    "            format=\"'%(asctime)s - %(name)s - %(levelname)s - %(message)s'\")"
   ]
  },
  {
   "cell_type": "code",
   "execution_count": 13,
   "metadata": {},
   "outputs": [],
   "source": [
    "gcs = Xszpo.DataSources.GoogleGCS(\n",
    "    dir_json_local = \"/Users/xszpo/GoogleDrive/01_Projects/202003_xFlats_K8S/mlflow/data\",\n",
    "    dir_json_bucket = \"flats_jsonlines\",\n",
    "    file_mask = 'flats_\\w+_202004\\d\\d.jsonline',\n",
    "    exclude_file_name = date.today().strftime(\"%Y%m%d\")\n",
    ")"
   ]
  },
  {
   "cell_type": "code",
   "execution_count": 14,
   "metadata": {},
   "outputs": [
    {
     "name": "stdout",
     "output_type": "stream",
     "text": [
      "'2020-04-29 23:05:18,761 - Xszpo.DataSources._source - INFO - Blob flats_gratka_20200420.jsonline downloaded to /Users/xszpo/GoogleDrive/01_Projects/202003_xFlats_K8S/mlflow/data.'\n"
     ]
    }
   ],
   "source": [
    "gcs.download_gcs()"
   ]
  },
  {
   "cell_type": "code",
   "execution_count": 16,
   "metadata": {},
   "outputs": [],
   "source": [
    "#'flats_\\w+_20\\d{6}.jsonline'\n",
    "\n",
    "jr = Xszpo.DataSources.ReadJsonline(\n",
    "    dir_json_local = \"/Users/xszpo/GoogleDrive/01_Projects/202003_xFlats_K8S/mlflow/data\",\n",
    "    file_mask = 'flats_\\w+_20200425.jsonline', \n",
    "    dir_parquet = None,\n",
    "    drop_columns='body',\n",
    "    schema_path=\"/Users/xszpo/GoogleDrive/01_Projects/202003_xFlats_K8S/data_structure/schema.json\")"
   ]
  },
  {
   "cell_type": "code",
   "execution_count": 17,
   "metadata": {},
   "outputs": [],
   "source": [
    "x = jr.json2df('flats_gratka_20200428.jsonline')"
   ]
  },
  {
   "cell_type": "code",
   "execution_count": 19,
   "metadata": {},
   "outputs": [],
   "source": [
    "x = jr.alljson2df()"
   ]
  },
  {
   "cell_type": "code",
   "execution_count": null,
   "metadata": {},
   "outputs": [],
   "source": []
  },
  {
   "cell_type": "code",
   "execution_count": 22,
   "metadata": {},
   "outputs": [
    {
     "data": {
      "text/plain": [
       "_id                              object\n",
       "additional_info                  object\n",
       "building_material                object\n",
       "building_type                    object\n",
       "date_created             datetime64[ns]\n",
       "date_modified            datetime64[ns]\n",
       "description                      object\n",
       "download_date            datetime64[ns]\n",
       "download_date_utc               float64\n",
       "flat_size                         int64\n",
       "floor                           float64\n",
       "GC_addr_city                     object\n",
       "GC_addr_country                  object\n",
       "GC_addr_country_code             object\n",
       "GC_addr_house_number             object\n",
       "GC_addr_neighbourhood            object\n",
       "GC_addr_postcode                 object\n",
       "GC_addr_road                     object\n",
       "GC_addr_state                    object\n",
       "GC_addr_suburb                   object\n",
       "GC_boundingbox                   object\n",
       "GC_latitude                     float64\n",
       "GC_longitude                    float64\n",
       "location                         object\n",
       "main_url                         object\n",
       "market                           object\n",
       "name                             object\n",
       "number_of_floors                float64\n",
       "offeror                          object\n",
       "price                           float64\n",
       "price_m2                        float64\n",
       "producer_name                    object\n",
       "property_form                    object\n",
       "rooms                           float64\n",
       "tracking_id                      object\n",
       "url                              object\n",
       "year_of_building                float64\n",
       "dtype: object"
      ]
     },
     "execution_count": 22,
     "metadata": {},
     "output_type": "execute_result"
    }
   ],
   "source": [
    "x.dtypes"
   ]
  }
 ],
 "metadata": {
  "kernelspec": {
   "display_name": "flats_mlmodel",
   "language": "python",
   "name": "flats_mlmodel"
  },
  "language_info": {
   "codemirror_mode": {
    "name": "ipython",
    "version": 3
   },
   "file_extension": ".py",
   "mimetype": "text/x-python",
   "name": "python",
   "nbconvert_exporter": "python",
   "pygments_lexer": "ipython3",
   "version": "3.7.4"
  }
 },
 "nbformat": 4,
 "nbformat_minor": 4
}
